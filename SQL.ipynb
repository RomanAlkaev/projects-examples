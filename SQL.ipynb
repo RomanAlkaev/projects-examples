{
  "nbformat": 4,
  "nbformat_minor": 0,
  "metadata": {
    "kernelspec": {
      "display_name": "Python 3",
      "language": "python",
      "name": "python3"
    },
    "language_info": {
      "codemirror_mode": {
        "name": "ipython",
        "version": 3
      },
      "file_extension": ".py",
      "mimetype": "text/x-python",
      "name": "python",
      "nbconvert_exporter": "python",
      "pygments_lexer": "ipython3",
      "version": "3.8.3"
    },
    "colab": {
      "name": "SQL.ipynb",
      "provenance": []
    }
  },
  "cells": [
    {
      "cell_type": "code",
      "metadata": {
        "id": "77W0tmwGMIRz"
      },
      "source": [
        "import pandas as pd\n",
        "import numpy as np\n",
        "from datetime import datetime\n",
        "import pyspark\n",
        "from pyspark.sql import *\n",
        "from pyspark.sql.functions import *\n",
        "from pyspark.sql.types import StructType, StructField, IntegerType, StringType, TimestampType\n",
        "from pyspark.sql import SparkSession"
      ],
      "execution_count": null,
      "outputs": []
    },
    {
      "cell_type": "code",
      "metadata": {
        "id": "jXOOjdVhMIR5"
      },
      "source": [
        "spark = SparkSession.builder.getOrCreate()"
      ],
      "execution_count": null,
      "outputs": []
    },
    {
      "cell_type": "code",
      "metadata": {
        "id": "kyMB1_P_MIR5"
      },
      "source": [
        "data_orders = [\n",
        "                (1, 1, 100, 1, 1232, datetime(2020, 9, 5, 0, 0, 0)),\n",
        "                (2, 11, 100, 2, 2345, datetime(2020, 10, 4, 0, 0, 0)),\n",
        "                (3, 22, 300, 8, 7686, datetime(2020, 3, 15, 0, 0, 0)),\n",
        "                (4, 33, 200, 6, 5544, datetime(2020, 10, 7, 0, 0, 0)),\n",
        "                (5, 44, 200, 3, 7676, datetime(2020, 12, 1, 0, 0, 0)),\n",
        "                (6, 55, 300, 5, 3342, datetime(2020, 6, 2, 0, 0, 0)),\n",
        "                (7, 66, 100, 3, 8687, datetime(2020, 11, 5, 0, 0, 0)),\n",
        "                (8, 77, 200, 11, 35356, datetime(2020, 8, 7, 0, 0, 0)),\n",
        "                (9, 88, 300, 9, 42224, datetime(2020, 3, 13, 0, 0, 0)),\n",
        "                (10, 99, 300, 7, 35454, datetime(2020, 12, 21, 0, 0, 0)),\n",
        "                (11, 2, 100, 1, 1232, datetime(2020, 9, 5, 0, 0, 0)),\n",
        "                (12, 11, 100, 2, 2345, datetime(2020, 1, 4, 0, 0, 0)),\n",
        "                (13, 22, 300, 8, 7686, datetime(2020, 2, 15, 0, 0, 0)),\n",
        "                (14, 33, 200, 6, 5544, datetime(2020, 7, 7, 0, 0, 0)),\n",
        "                (15, 44, 200, 3, 7676, datetime(2020, 12, 1, 0, 0, 0)),\n",
        "                (16, 55, 300, 5, 3342, datetime(2020, 8, 2, 0, 0, 0)),\n",
        "                (17, 66, 100, 3, 8687, datetime(2020, 12, 5, 0, 0, 0)),\n",
        "                (18, 77, 200, 11, 35356, datetime(2020, 2, 7, 0, 0, 0)),\n",
        "                (19, 88, 300, 9, 42224, datetime(2020, 5, 13, 0, 0, 0)),\n",
        "                (20, 99, 300, 7, 35454, datetime(2020, 11, 21, 0, 0, 0)),\n",
        "                (21, 3, 100, 1, 1232, datetime(2019, 12, 25, 0, 0, 0)),\n",
        "                (22, 11, 100, 2, 2345, datetime(2019, 10, 4, 0, 0, 0)),\n",
        "                (23, 22, 300, 8, 7686, datetime(2019, 12, 15, 0, 0, 0)),\n",
        "                (24, 33, 200, 6, 5544, datetime(2019, 10, 7, 0, 0, 0)),\n",
        "                (25, 44, 200, 3, 7676, datetime(2019, 11, 1, 0, 0, 0)),\n",
        "                (26, 55, 300, 5, 3342, datetime(2019, 9, 2, 0, 0, 0)),\n",
        "                (27, 66, 100, 3, 8687, datetime(2019, 10, 5, 0, 0, 0)),\n",
        "                (28, 77, 200, 11, 35356, datetime(2019, 11, 7, 0, 0, 0)),\n",
        "                (29, 88, 300, 9, 42224, datetime(2019, 12, 13, 0, 0, 0)),\n",
        "                (30, 99, 300, 7, 35454, datetime(2019, 10, 21, 0, 0, 0))\n",
        "               ]\n",
        "\n",
        "data_vendors = [\n",
        "                (100, 'Marsel', 10),\n",
        "                (200, 'KFC', 15),\n",
        "                (300, 'Ararat', 20),\n",
        "               ]"
      ],
      "execution_count": null,
      "outputs": []
    },
    {
      "cell_type": "code",
      "metadata": {
        "id": "U5lnBJO2MIR6"
      },
      "source": [
        "schema_orders = StructType([ \n",
        "                            StructField(\"order_id\", IntegerType(), True), \n",
        "                            StructField(\"user_id\", IntegerType(), True), \n",
        "                            StructField(\"vendor_id\", IntegerType(), True), \n",
        "                            StructField(\"product_count\", IntegerType(), True), \n",
        "                            StructField(\"products_sum\", IntegerType(), True),  \n",
        "                            StructField(\"order_date\", TimestampType(), True) \n",
        "                            ])\n",
        "\n",
        "schema_vendors = StructType([ \n",
        "                            StructField(\"vendor_id\", IntegerType(), True), \n",
        "                            StructField(\"vendor_name\", StringType(), True), \n",
        "                            StructField(\"take_rate\", IntegerType(), True)  \n",
        "                            ])"
      ],
      "execution_count": null,
      "outputs": []
    },
    {
      "cell_type": "code",
      "metadata": {
        "id": "07Ej6JRHMIR6",
        "outputId": "92f0f8e0-71b5-498e-dcfb-f2b5fccb18d7"
      },
      "source": [
        "orders = spark.createDataFrame(data = data_orders, schema = schema_orders)\n",
        "orders.createOrReplaceTempView(\"orders\")\n",
        "orders.show(30)"
      ],
      "execution_count": null,
      "outputs": [
        {
          "output_type": "stream",
          "text": [
            "+--------+-------+---------+-------------+------------+-------------------+\n",
            "|order_id|user_id|vendor_id|product_count|products_sum|         order_date|\n",
            "+--------+-------+---------+-------------+------------+-------------------+\n",
            "|       1|      1|      100|            1|        1232|2020-09-05 00:00:00|\n",
            "|       2|     11|      100|            2|        2345|2020-10-04 00:00:00|\n",
            "|       3|     22|      300|            8|        7686|2020-03-15 00:00:00|\n",
            "|       4|     33|      200|            6|        5544|2020-10-07 00:00:00|\n",
            "|       5|     44|      200|            3|        7676|2020-12-01 00:00:00|\n",
            "|       6|     55|      300|            5|        3342|2020-06-02 00:00:00|\n",
            "|       7|     66|      100|            3|        8687|2020-11-05 00:00:00|\n",
            "|       8|     77|      200|           11|       35356|2020-08-07 00:00:00|\n",
            "|       9|     88|      300|            9|       42224|2020-03-13 00:00:00|\n",
            "|      10|     99|      300|            7|       35454|2020-12-21 00:00:00|\n",
            "|      11|      2|      100|            1|        1232|2020-09-05 00:00:00|\n",
            "|      12|     11|      100|            2|        2345|2020-01-04 00:00:00|\n",
            "|      13|     22|      300|            8|        7686|2020-02-15 00:00:00|\n",
            "|      14|     33|      200|            6|        5544|2020-07-07 00:00:00|\n",
            "|      15|     44|      200|            3|        7676|2020-12-01 00:00:00|\n",
            "|      16|     55|      300|            5|        3342|2020-08-02 00:00:00|\n",
            "|      17|     66|      100|            3|        8687|2020-12-05 00:00:00|\n",
            "|      18|     77|      200|           11|       35356|2020-02-07 00:00:00|\n",
            "|      19|     88|      300|            9|       42224|2020-05-13 00:00:00|\n",
            "|      20|     99|      300|            7|       35454|2020-11-21 00:00:00|\n",
            "|      21|      3|      100|            1|        1232|2019-12-25 00:00:00|\n",
            "|      22|     11|      100|            2|        2345|2019-10-04 00:00:00|\n",
            "|      23|     22|      300|            8|        7686|2019-12-15 00:00:00|\n",
            "|      24|     33|      200|            6|        5544|2019-10-07 00:00:00|\n",
            "|      25|     44|      200|            3|        7676|2019-11-01 00:00:00|\n",
            "|      26|     55|      300|            5|        3342|2019-09-02 00:00:00|\n",
            "|      27|     66|      100|            3|        8687|2019-10-05 00:00:00|\n",
            "|      28|     77|      200|           11|       35356|2019-11-07 00:00:00|\n",
            "|      29|     88|      300|            9|       42224|2019-12-13 00:00:00|\n",
            "|      30|     99|      300|            7|       35454|2019-10-21 00:00:00|\n",
            "+--------+-------+---------+-------------+------------+-------------------+\n",
            "\n"
          ],
          "name": "stdout"
        }
      ]
    },
    {
      "cell_type": "code",
      "metadata": {
        "scrolled": true,
        "id": "xBBPHovqMIR7",
        "outputId": "fe90ed09-a7d7-458e-de85-1d0325345f89"
      },
      "source": [
        "vendors = spark.createDataFrame(data = data_vendors, schema = schema_vendors)\n",
        "vendors.createOrReplaceTempView(\"vendors\")\n",
        "vendors.show()"
      ],
      "execution_count": null,
      "outputs": [
        {
          "output_type": "stream",
          "text": [
            "+---------+-----------+---------+\n",
            "|vendor_id|vendor_name|take_rate|\n",
            "+---------+-----------+---------+\n",
            "|      100|     Marsel|       10|\n",
            "|      200|        KFC|       15|\n",
            "|      300|     Ararat|       20|\n",
            "+---------+-----------+---------+\n",
            "\n"
          ],
          "name": "stdout"
        }
      ]
    },
    {
      "cell_type": "markdown",
      "metadata": {
        "id": "JDRgqVNwMIR8"
      },
      "source": [
        "## Задание_1. Выведи топ 10 вендоров с самым большим количеством заказов за последний месяц"
      ]
    },
    {
      "cell_type": "code",
      "metadata": {
        "id": "ZKDY8ZMKMIR8",
        "outputId": "9e16bb9d-7d4f-46c2-eb51-28d4cb069522"
      },
      "source": [
        "request_1 = '''\n",
        "WITH table_4 as (WITH table_3 as(WITH table_2 as(WITH table_1 as(\n",
        "SELECT *, YEAR(order_date) as year, MONTH(order_date) as month FROM orders order by year desc, month desc)\n",
        "SELECT * from table_1 WHERE year = (SELECT MAX(year) FROM table_1) and month = (SELECT MAX(month) FROM table_1))\n",
        "SELECT vendors.vendor_id, vendors.vendor_name from vendors RIGHT JOIN table_2 on vendors.vendor_id = table_2.vendor_id)\n",
        "SELECT table_3.vendor_name, COUNT(table_3.vendor_id) as count FROM table_3 GROUP BY table_3.vendor_name)\n",
        "SELECT table_4.vendor_name FROM table_4 ORDER BY table_4.count desc LIMIT 2\n",
        "'''\n",
        "#берем топ 2 вендора, поскольку в нашей таблице их всего 3\n",
        "spark.sql(request_1).show()"
      ],
      "execution_count": null,
      "outputs": [
        {
          "output_type": "stream",
          "text": [
            "+-----------+\n",
            "|vendor_name|\n",
            "+-----------+\n",
            "|        KFC|\n",
            "|     Marsel|\n",
            "+-----------+\n",
            "\n"
          ],
          "name": "stdout"
        }
      ]
    },
    {
      "cell_type": "markdown",
      "metadata": {
        "id": "7mEuLBIjMIR9"
      },
      "source": [
        "## Задание_2. Выведи все рестораны(vendor_name) и количество их заказов"
      ]
    },
    {
      "cell_type": "code",
      "metadata": {
        "id": "-E3hf-zHMIR9",
        "outputId": "5fd8ed56-49cc-4bf9-a84c-5e559dc428e8"
      },
      "source": [
        "request_2 = '''\n",
        "SELECT b.vendor_name, c.count FROM vendors as b LEFT JOIN (\n",
        "SELECT a.vendor_id, COUNT(a.order_date) as count FROM orders as a GROUP BY a.vendor_id) as c\n",
        "on b.vendor_id = c.vendor_id\n",
        "'''\n",
        "spark.sql(request_2).show()"
      ],
      "execution_count": null,
      "outputs": [
        {
          "output_type": "stream",
          "text": [
            "+-----------+-----+\n",
            "|vendor_name|count|\n",
            "+-----------+-----+\n",
            "|     Ararat|   12|\n",
            "|     Marsel|    9|\n",
            "|        KFC|    9|\n",
            "+-----------+-----+\n",
            "\n"
          ],
          "name": "stdout"
        }
      ]
    },
    {
      "cell_type": "markdown",
      "metadata": {
        "id": "Xe-aL2BcMIR9"
      },
      "source": [
        "## Задание_3. Выведи всех клиентов, которые не заказывали в КФС за последний месяц"
      ]
    },
    {
      "cell_type": "code",
      "metadata": {
        "id": "kBjm7O0IMIR9",
        "outputId": "fbd723dd-7a94-4a6f-f752-f84e5e39df05"
      },
      "source": [
        "request_3 = '''\n",
        "WITH table_3_3 as(WITH table_3_2 as(WITH table_3_1 as(\n",
        "SELECT *, YEAR(order_date) as year, MONTH(order_date) as month FROM orders order by year desc, month desc)\n",
        "SELECT * from table_3_1 WHERE year = (SELECT MAX(year) FROM table_3_1) and month = (SELECT MAX(month) FROM table_3_1))\n",
        "SELECT vendors.vendor_id, vendors.vendor_name, table_3_2.user_id from vendors RIGHT JOIN table_3_2 on vendors.vendor_id = table_3_2.vendor_id)\n",
        "SELECT table_3_3.user_id FROM table_3_3 WHERE table_3_3.vendor_name not like \"KFC\"\n",
        "'''\n",
        "spark.sql(request_3).show()"
      ],
      "execution_count": null,
      "outputs": [
        {
          "output_type": "stream",
          "text": [
            "+-------+\n",
            "|user_id|\n",
            "+-------+\n",
            "|     99|\n",
            "|     66|\n",
            "+-------+\n",
            "\n"
          ],
          "name": "stdout"
        }
      ]
    },
    {
      "cell_type": "markdown",
      "metadata": {
        "id": "prKF6wv3MIR-"
      },
      "source": [
        "## Задание_4. Выведи топ 3 лучших вендера по заказам в каждом месяце за последние 12 месяцев"
      ]
    },
    {
      "cell_type": "code",
      "metadata": {
        "id": "5nIeu3SDMIR-",
        "outputId": "87b61819-5cd9-4061-fd93-f9ad8c70ea07"
      },
      "source": [
        "request_4 = '''\n",
        "WITH table_4_4 as (WITH table_4_3 as (WITH table_4_2 as (WITH table_4_1 as (\n",
        "SELECT *, YEAR(order_date) as year, MONTH(order_date) as month, DAYOFYEAR(order_date) as num_day FROM orders order by year desc, month desc)\n",
        "SELECT vendors.vendor_name, table_4_22.order_date, table_4_22.year, table_4_22.month, table_4_22.num_day, table_4_22.cnt FROM vendors LEFT JOIN (\n",
        "SELECT table_4_1.year, table_4_1.month, table_4_1.vendor_id, table_4_1.order_date, table_4_1.num_day, COUNT(table_4_1.order_date) as cnt FROM table_4_1 \n",
        "GROUP BY table_4_1.year, table_4_1.month, table_4_1.vendor_id, table_4_1.order_date, table_4_1.num_day ORDER BY table_4_1.year desc, table_4_1.month desc) as table_4_22\n",
        "on vendors.vendor_id = table_4_22.vendor_id ORDER BY table_4_22.year desc, table_4_22.month desc, table_4_22.cnt desc)\n",
        "SELECT * FROM table_4_2 WHERE table_4_2.year = (SELECT MAX(table_4_2.year) FROM table_4_2) OR ((table_4_2.year = (SELECT MAX(table_4_2.year) FROM table_4_2) - 1) AND table_4_2.num_day > (SELECT MAX(table_4_2.num_day) FROM table_4_2 WHERE table_4_2.year = (SELECT MAX(table_4_2.year) FROM table_4_2))))\n",
        "SELECT *, CONCAT(table_4_3.year, ' ', table_4_3.month) as new_date FROM table_4_3)\n",
        "SELECT table_4_5.new_date, table_4_5.vendor_name, table_4_5.rating_in_section FROM (\n",
        "SELECT table_4_4.order_date, table_4_4.vendor_name, table_4_4.year, table_4_4.month, table_4_4.cnt, table_4_4.new_date, ROW_NUMBER() OVER (PARTITION BY table_4_4.new_date ORDER BY table_4_4.year desc, table_4_4.month desc, table_4_4.cnt) AS rating_in_section FROM table_4_4 ORDER BY table_4_4.year desc, table_4_4.month desc, table_4_4.cnt) AS table_4_5 WHERE table_4_5.rating_in_section <= 2\n",
        "'''\n",
        "#берем первые 2 значения, поскольку в нашей таблице их всего 3\n",
        "spark.sql(request_4).show()"
      ],
      "execution_count": null,
      "outputs": [
        {
          "output_type": "stream",
          "text": [
            "+--------+-----------+-----------------+\n",
            "|new_date|vendor_name|rating_in_section|\n",
            "+--------+-----------+-----------------+\n",
            "| 2020 12|     Ararat|                1|\n",
            "| 2020 12|     Marsel|                2|\n",
            "| 2020 11|     Ararat|                1|\n",
            "| 2020 11|     Marsel|                2|\n",
            "| 2020 10|     Marsel|                1|\n",
            "| 2020 10|        KFC|                2|\n",
            "|  2020 9|     Marsel|                1|\n",
            "|  2020 8|     Ararat|                1|\n",
            "|  2020 8|        KFC|                2|\n",
            "|  2020 7|        KFC|                1|\n",
            "|  2020 6|     Ararat|                1|\n",
            "|  2020 5|     Ararat|                1|\n",
            "|  2020 3|     Ararat|                2|\n",
            "|  2020 3|     Ararat|                1|\n",
            "|  2020 2|     Ararat|                1|\n",
            "|  2020 2|        KFC|                2|\n",
            "|  2020 1|     Marsel|                1|\n",
            "| 2019 12|     Marsel|                1|\n",
            "+--------+-----------+-----------------+\n",
            "\n"
          ],
          "name": "stdout"
        }
      ]
    },
    {
      "cell_type": "markdown",
      "metadata": {
        "id": "F-dB9GErMIR_"
      },
      "source": [
        "## Задание_5. Напиши запрос, который выводит следующую таблицу"
      ]
    },
    {
      "cell_type": "code",
      "metadata": {
        "id": "RZCIwex3MIR_",
        "outputId": "ffe7f34c-b1cc-40c4-edae-fdea25e70851"
      },
      "source": [
        "request_5 = '''\n",
        "WITH table_5_3 as (WITH table_5_2 as (WITH table_5_1 as (\n",
        "SELECT orders.user_id, SUM(table_5_J_1.take_rate) as revenue FROM orders LEFT JOIN (\n",
        "SELECT vendors.take_rate, vendors.vendor_id FROM vendors) as table_5_J_1 on table_5_J_1.vendor_id = orders.vendor_id GROUP BY orders.user_id ORDER BY orders.user_id)\n",
        "SELECT *, (table_5_1.user_id * 0 + (SELECT SUM(table_5_1.revenue) FROM table_5_1)) as total_revenue FROM table_5_1 GROUP BY table_5_1.user_id, table_5_1.revenue ORDER BY table_5_1.user_id)\n",
        "SELECT *, ROUND(table_5_2.revenue / table_5_2.total_revenue * 100, 2) as share FROM table_5_2)\n",
        "SELECT *, ROUND(COALESCE(SUM(table_5_3.share) over (order by table_5_3.user_id rows between unbounded preceding and current row), 0), 2) as cumulative_share FROM table_5_3\n",
        "'''\n",
        "spark.sql(request_5).show()"
      ],
      "execution_count": null,
      "outputs": [
        {
          "output_type": "stream",
          "text": [
            "+-------+-------+-------------+-----+----------------+\n",
            "|user_id|revenue|total_revenue|share|cumulative_share|\n",
            "+-------+-------+-------------+-----+----------------+\n",
            "|      1|     10|          465| 2.15|            2.15|\n",
            "|      2|     10|          465| 2.15|             4.3|\n",
            "|      3|     10|          465| 2.15|            6.45|\n",
            "|     11|     30|          465| 6.45|            12.9|\n",
            "|     22|     60|          465| 12.9|            25.8|\n",
            "|     33|     45|          465| 9.68|           35.48|\n",
            "|     44|     45|          465| 9.68|           45.16|\n",
            "|     55|     60|          465| 12.9|           58.06|\n",
            "|     66|     30|          465| 6.45|           64.51|\n",
            "|     77|     45|          465| 9.68|           74.19|\n",
            "|     88|     60|          465| 12.9|           87.09|\n",
            "|     99|     60|          465| 12.9|           99.99|\n",
            "+-------+-------+-------------+-----+----------------+\n",
            "\n"
          ],
          "name": "stdout"
        }
      ]
    }
  ]
}