{
  "nbformat": 4,
  "nbformat_minor": 0,
  "metadata": {
    "kernelspec": {
      "display_name": "Python 3",
      "language": "python",
      "name": "python3"
    },
    "language_info": {
      "codemirror_mode": {
        "name": "ipython",
        "version": 3
      },
      "file_extension": ".py",
      "mimetype": "text/x-python",
      "name": "python",
      "nbconvert_exporter": "python",
      "pygments_lexer": "ipython3",
      "version": "3.8.3"
    },
    "colab": {
      "name": "HomeWork_3_.ipynb",
      "provenance": []
    }
  },
  "cells": [
    {
      "cell_type": "code",
      "metadata": {
        "id": "IiaK2O8BLoRQ",
        "outputId": "66cc3001-7d7a-4040-a8a2-3176b75c7aaf"
      },
      "source": [
        "import numpy as np\n",
        "import pandas as pd\n",
        "import seaborn as sns\n",
        "import matplotlib.pyplot as plt\n",
        "import seaborn as sns\n",
        "import pymorphy2\n",
        "import nltk\n",
        "import string\n",
        "import re\n",
        "nltk.download('punkt')\n",
        "nltk.download('stopwords')\n",
        "from sklearn.base import TransformerMixin\n",
        "from nltk.tokenize import word_tokenize\n",
        "from nltk.corpus import stopwords\n",
        "from sklearn.model_selection import cross_val_score\n",
        "from sklearn.linear_model import LogisticRegression, SGDClassifier\n",
        "from sklearn.svm import LinearSVC\n",
        "from sklearn.pipeline import Pipeline, FeatureUnion\n",
        "from sklearn.metrics import f1_score\n",
        "from sklearn.feature_extraction.text import TfidfVectorizer\n",
        "from sklearn.ensemble import RandomForestClassifier, GradientBoostingClassifier\n",
        "from sklearn.model_selection import StratifiedKFold, GridSearchCV\n",
        "from tqdm import tqdm_notebook"
      ],
      "execution_count": null,
      "outputs": [
        {
          "output_type": "stream",
          "text": [
            "[nltk_data] Error loading punkt: <urlopen error [Errno 11001]\n",
            "[nltk_data]     getaddrinfo failed>\n",
            "[nltk_data] Error loading stopwords: <urlopen error [Errno 11001]\n",
            "[nltk_data]     getaddrinfo failed>\n"
          ],
          "name": "stderr"
        }
      ]
    },
    {
      "cell_type": "code",
      "metadata": {
        "id": "bt4rBKGuLoRW",
        "outputId": "69586a6d-985f-4213-93ef-89f4c7e947ef"
      },
      "source": [
        "train_df = pd.read_csv(\"train.csv\")\n",
        "train_df.head(5)"
      ],
      "execution_count": null,
      "outputs": [
        {
          "output_type": "execute_result",
          "data": {
            "text/html": [
              "<div>\n",
              "<style scoped>\n",
              "    .dataframe tbody tr th:only-of-type {\n",
              "        vertical-align: middle;\n",
              "    }\n",
              "\n",
              "    .dataframe tbody tr th {\n",
              "        vertical-align: top;\n",
              "    }\n",
              "\n",
              "    .dataframe thead th {\n",
              "        text-align: right;\n",
              "    }\n",
              "</style>\n",
              "<table border=\"1\" class=\"dataframe\">\n",
              "  <thead>\n",
              "    <tr style=\"text-align: right;\">\n",
              "      <th></th>\n",
              "      <th>id</th>\n",
              "      <th>url</th>\n",
              "      <th>title</th>\n",
              "      <th>target</th>\n",
              "    </tr>\n",
              "  </thead>\n",
              "  <tbody>\n",
              "    <tr>\n",
              "      <th>0</th>\n",
              "      <td>0</td>\n",
              "      <td>m.kp.md</td>\n",
              "      <td>Экс-министр экономики Молдовы - главе МИДЭИ, ц...</td>\n",
              "      <td>False</td>\n",
              "    </tr>\n",
              "    <tr>\n",
              "      <th>1</th>\n",
              "      <td>1</td>\n",
              "      <td>www.kp.by</td>\n",
              "      <td>Эта песня стала известна многим телезрителям б...</td>\n",
              "      <td>False</td>\n",
              "    </tr>\n",
              "    <tr>\n",
              "      <th>2</th>\n",
              "      <td>2</td>\n",
              "      <td>fanserials.tv</td>\n",
              "      <td>Банши 4 сезон 2 серия Бремя красоты смотреть о...</td>\n",
              "      <td>False</td>\n",
              "    </tr>\n",
              "    <tr>\n",
              "      <th>3</th>\n",
              "      <td>3</td>\n",
              "      <td>colorbox.spb.ru</td>\n",
              "      <td>Не Беси Меня Картинки</td>\n",
              "      <td>False</td>\n",
              "    </tr>\n",
              "    <tr>\n",
              "      <th>4</th>\n",
              "      <td>4</td>\n",
              "      <td>tula-sport.ru</td>\n",
              "      <td>В Новомосковске сыграют следж-хоккеисты алекси...</td>\n",
              "      <td>False</td>\n",
              "    </tr>\n",
              "  </tbody>\n",
              "</table>\n",
              "</div>"
            ],
            "text/plain": [
              "   id              url                                              title  \\\n",
              "0   0          m.kp.md  Экс-министр экономики Молдовы - главе МИДЭИ, ц...   \n",
              "1   1        www.kp.by  Эта песня стала известна многим телезрителям б...   \n",
              "2   2    fanserials.tv  Банши 4 сезон 2 серия Бремя красоты смотреть о...   \n",
              "3   3  colorbox.spb.ru                              Не Беси Меня Картинки   \n",
              "4   4    tula-sport.ru  В Новомосковске сыграют следж-хоккеисты алекси...   \n",
              "\n",
              "   target  \n",
              "0   False  \n",
              "1   False  \n",
              "2   False  \n",
              "3   False  \n",
              "4   False  "
            ]
          },
          "metadata": {
            "tags": []
          },
          "execution_count": 3
        }
      ]
    },
    {
      "cell_type": "code",
      "metadata": {
        "id": "3Iee89GCLoRX",
        "outputId": "b8dd917f-1854-415c-f794-a91918ef31d2"
      },
      "source": [
        "test_df = pd.read_csv(\"test.csv\")\n",
        "test_df.head(5)"
      ],
      "execution_count": null,
      "outputs": [
        {
          "output_type": "execute_result",
          "data": {
            "text/html": [
              "<div>\n",
              "<style scoped>\n",
              "    .dataframe tbody tr th:only-of-type {\n",
              "        vertical-align: middle;\n",
              "    }\n",
              "\n",
              "    .dataframe tbody tr th {\n",
              "        vertical-align: top;\n",
              "    }\n",
              "\n",
              "    .dataframe thead th {\n",
              "        text-align: right;\n",
              "    }\n",
              "</style>\n",
              "<table border=\"1\" class=\"dataframe\">\n",
              "  <thead>\n",
              "    <tr style=\"text-align: right;\">\n",
              "      <th></th>\n",
              "      <th>id</th>\n",
              "      <th>url</th>\n",
              "      <th>title</th>\n",
              "    </tr>\n",
              "  </thead>\n",
              "  <tbody>\n",
              "    <tr>\n",
              "      <th>0</th>\n",
              "      <td>135309</td>\n",
              "      <td>www.kommersant.ru</td>\n",
              "      <td>Шестой кассационный суд в Самаре начнет работу...</td>\n",
              "    </tr>\n",
              "    <tr>\n",
              "      <th>1</th>\n",
              "      <td>135310</td>\n",
              "      <td>urexpert.online</td>\n",
              "      <td>Что такое индексация алиментов, кем и в каких ...</td>\n",
              "    </tr>\n",
              "    <tr>\n",
              "      <th>2</th>\n",
              "      <td>135311</td>\n",
              "      <td>imperimeha.ru</td>\n",
              "      <td>Женщинам | Империя Меха - Part 12</td>\n",
              "    </tr>\n",
              "    <tr>\n",
              "      <th>3</th>\n",
              "      <td>135312</td>\n",
              "      <td>national-porn.com</td>\n",
              "      <td>Небритые, волосатые киски: Порно всех стран и ...</td>\n",
              "    </tr>\n",
              "    <tr>\n",
              "      <th>4</th>\n",
              "      <td>135313</td>\n",
              "      <td>2gis.ru</td>\n",
              "      <td>67</td>\n",
              "    </tr>\n",
              "  </tbody>\n",
              "</table>\n",
              "</div>"
            ],
            "text/plain": [
              "       id                url  \\\n",
              "0  135309  www.kommersant.ru   \n",
              "1  135310    urexpert.online   \n",
              "2  135311      imperimeha.ru   \n",
              "3  135312  national-porn.com   \n",
              "4  135313            2gis.ru   \n",
              "\n",
              "                                               title  \n",
              "0  Шестой кассационный суд в Самаре начнет работу...  \n",
              "1  Что такое индексация алиментов, кем и в каких ...  \n",
              "2                  Женщинам | Империя Меха - Part 12  \n",
              "3  Небритые, волосатые киски: Порно всех стран и ...  \n",
              "4                                                 67  "
            ]
          },
          "metadata": {
            "tags": []
          },
          "execution_count": 4
        }
      ]
    },
    {
      "cell_type": "code",
      "metadata": {
        "id": "FfqB6o-wLoRX"
      },
      "source": [
        "y_train = train_df[\"target\"].astype(int)"
      ],
      "execution_count": null,
      "outputs": []
    },
    {
      "cell_type": "code",
      "metadata": {
        "id": "n97j4VLyLoRY"
      },
      "source": [
        "train_df.url = train_df.url.str.lower()\n",
        "test_df.url = test_df.url.str.lower()"
      ],
      "execution_count": null,
      "outputs": []
    },
    {
      "cell_type": "code",
      "metadata": {
        "id": "p2FxK2w3LoRY",
        "outputId": "fa88c864-d194-4ea7-8f17-a232cd6da357"
      },
      "source": [
        "test_df['url'] = test_df['url'].apply(lambda url: \"\".join(re.sub(r'[^\\w\\s]+|[\\d]+', r'', url).strip()))\n",
        "train_df['url'] = train_df['url'].apply(lambda url: \"\".join(re.sub(r'[^\\w\\s]+|[\\d]+', r'', url).strip()))\n",
        "train_df['url'].head(10)"
      ],
      "execution_count": null,
      "outputs": [
        {
          "output_type": "execute_result",
          "data": {
            "text/plain": [
              "0                  mkpmd\n",
              "1                wwwkpby\n",
              "2           fanserialstv\n",
              "3          colorboxspbru\n",
              "4            tulasportru\n",
              "5         beregifigururu\n",
              "6    ekbvseinstrumentiru\n",
              "7           mirtabakaorg\n",
              "8               xlecxcom\n",
              "9        busbiletyplusua\n",
              "Name: url, dtype: object"
            ]
          },
          "metadata": {
            "tags": []
          },
          "execution_count": 7
        }
      ]
    },
    {
      "cell_type": "code",
      "metadata": {
        "id": "HG0nh-3zLoRZ"
      },
      "source": [
        "train_df.title = train_df.title.str.lower()\n",
        "test_df.title = test_df.title.str.lower()"
      ],
      "execution_count": null,
      "outputs": []
    },
    {
      "cell_type": "code",
      "metadata": {
        "id": "hqci4rWOLoRZ",
        "outputId": "a1c70372-7360-4842-af8c-78b9f15e67f7"
      },
      "source": [
        "test_df['title'] = test_df['title'].apply(lambda title: \"\".join(re.sub(r'[^\\w\\s]+|[\\d]+', r'', title).strip()))\n",
        "train_df['title'] = train_df['title'].apply(lambda title: \"\".join(re.sub(r'[^\\w\\s]+|[\\d]+', r'', title).strip()))\n",
        "train_df['title'].head(10)"
      ],
      "execution_count": null,
      "outputs": [
        {
          "output_type": "execute_result",
          "data": {
            "text/plain": [
              "0    эксминистр экономики молдовы  главе мидэи цель...\n",
              "1    эта песня стала известна многим телезрителям б...\n",
              "2    банши  сезон  серия бремя красоты смотреть онлайн\n",
              "3                                не беси меня картинки\n",
              "4    в новомосковске сыграют следжхоккеисты алексин...\n",
              "5    салат корейская морковь  копченая курица  куку...\n",
              "6    угловой пневмогайковерт fubag rwc    в екатери...\n",
              "7    табачный магазин мир табака  курительные трубк...\n",
              "8    league of legends  page   porn comics free online\n",
              "9         р одесса  ростовнадону  сентября  фаворит чп\n",
              "Name: title, dtype: object"
            ]
          },
          "metadata": {
            "tags": []
          },
          "execution_count": 9
        }
      ]
    },
    {
      "cell_type": "code",
      "metadata": {
        "id": "1nbc3-bvLoRa",
        "outputId": "093fef40-ddb7-459d-9429-53d82563451f"
      },
      "source": [
        "train_df['title'] = train_df['title'].apply(word_tokenize)\n",
        "train_df['title'].head(3)"
      ],
      "execution_count": null,
      "outputs": [
        {
          "output_type": "execute_result",
          "data": {
            "text/plain": [
              "0    [эксминистр, экономики, молдовы, главе, мидэи,...\n",
              "1    [эта, песня, стала, известна, многим, телезрит...\n",
              "2    [банши, сезон, серия, бремя, красоты, смотреть...\n",
              "Name: title, dtype: object"
            ]
          },
          "metadata": {
            "tags": []
          },
          "execution_count": 10
        }
      ]
    },
    {
      "cell_type": "code",
      "metadata": {
        "id": "S3n2cjNOLoRa",
        "outputId": "b60bcf3c-2345-439b-aeab-ec2a3156376d"
      },
      "source": [
        "test_df[\"title\"] = test_df[\"title\"].apply(word_tokenize)\n",
        "test_df['title'].head(3)"
      ],
      "execution_count": null,
      "outputs": [
        {
          "output_type": "execute_result",
          "data": {
            "text/plain": [
              "0    [шестой, кассационный, суд, в, самаре, начнет,...\n",
              "1    [что, такое, индексация, алиментов, кем, и, в,...\n",
              "2                      [женщинам, империя, меха, part]\n",
              "Name: title, dtype: object"
            ]
          },
          "metadata": {
            "tags": []
          },
          "execution_count": 11
        }
      ]
    },
    {
      "cell_type": "code",
      "metadata": {
        "id": "dpw0VeWULoRb",
        "outputId": "da6bb6b2-cb99-4714-a893-36cff8ab2e08"
      },
      "source": [
        "%%time\n",
        "\n",
        "mystopwords = stopwords.words() + ['это', 'наш' , 'тыс', 'млн', 'млрд', 'также', 'т', 'д', 'это', 'который', 'весь', 'свой', 'ещё', 'её', 'ваш', 'такое', 'итак', 'что', 'этот']\n",
        "\n",
        "train_df['title'] = train_df['title'].apply(lambda title: [word for word in title if word not in mystopwords])\n",
        "test_df['title'] = test_df['title'].apply(lambda title: [word for word in title if word not in mystopwords])"
      ],
      "execution_count": null,
      "outputs": [
        {
          "output_type": "stream",
          "text": [
            "Wall time: 3min 20s\n"
          ],
          "name": "stdout"
        }
      ]
    },
    {
      "cell_type": "code",
      "metadata": {
        "id": "W10FZtNZLoRb",
        "outputId": "828abe25-c094-4d77-d2ce-093349c44b59"
      },
      "source": [
        "%%time\n",
        "\n",
        "lemmatizer = pymorphy2.MorphAnalyzer()\n",
        "\n",
        "lemmatizer_cache = {}\n",
        "\n",
        "def lemmatize(token):\n",
        "    if lemmatizer.word_is_known(token):\n",
        "        if token not in lemmatizer_cache:\n",
        "            lemmatizer_cache[token] = lemmatizer.parse(token)[0].normal_form\n",
        "        return lemmatizer_cache[token]\n",
        "    return token\n",
        "\n",
        "for i in range(train_df[\"title\"].shape[0]):\n",
        "    train_df[\"title\"][i] = [lemmatize(word) for word in train_df[\"title\"][i]]\n",
        "        \n",
        "for i in range(test_df[\"title\"].shape[0]):\n",
        "    test_df[\"title\"][i] = [lemmatize(word) for word in test_df[\"title\"][i]]"
      ],
      "execution_count": null,
      "outputs": [
        {
          "output_type": "stream",
          "text": [
            "<timed exec>:13: SettingWithCopyWarning: \n",
            "A value is trying to be set on a copy of a slice from a DataFrame\n",
            "\n",
            "See the caveats in the documentation: https://pandas.pydata.org/pandas-docs/stable/user_guide/indexing.html#returning-a-view-versus-a-copy\n",
            "<timed exec>:16: SettingWithCopyWarning: \n",
            "A value is trying to be set on a copy of a slice from a DataFrame\n",
            "\n",
            "See the caveats in the documentation: https://pandas.pydata.org/pandas-docs/stable/user_guide/indexing.html#returning-a-view-versus-a-copy\n"
          ],
          "name": "stderr"
        },
        {
          "output_type": "stream",
          "text": [
            "Wall time: 9min 2s\n"
          ],
          "name": "stdout"
        }
      ]
    },
    {
      "cell_type": "code",
      "metadata": {
        "id": "m1M2jNcILoRc",
        "outputId": "c2a46f85-7447-44b8-bcbf-140a46675015"
      },
      "source": [
        "train_df['title'].head(5)"
      ],
      "execution_count": null,
      "outputs": [
        {
          "output_type": "execute_result",
          "data": {
            "text/plain": [
              "0    [эксминистр, экономика, молдова, глава, мидэи,...\n",
              "1    [этот, песня, стать, известный, многий, телезр...\n",
              "2    [банши, сезон, серия, бремя, красота, смотреть...\n",
              "3                                   [бесить, картинка]\n",
              "4    [новомосковск, сыграть, следжхоккеисты, алекси...\n",
              "Name: title, dtype: object"
            ]
          },
          "metadata": {
            "tags": []
          },
          "execution_count": 14
        }
      ]
    },
    {
      "cell_type": "code",
      "metadata": {
        "id": "LPzIoCP_LoRc",
        "outputId": "94e28eab-3425-46d1-ca61-fe69545b803b"
      },
      "source": [
        "test_df['title'].head(5)"
      ],
      "execution_count": null,
      "outputs": [
        {
          "output_type": "execute_result",
          "data": {
            "text/plain": [
              "0    [шестой, кассационный, суд, самара, начать, ра...\n",
              "1    [индексация, алименты, кто, какой, случай, про...\n",
              "2                        [женщина, империя, мех, part]\n",
              "3    [небритый, волосатый, киска, порно, страна, на...\n",
              "4                                                   []\n",
              "Name: title, dtype: object"
            ]
          },
          "metadata": {
            "tags": []
          },
          "execution_count": 15
        }
      ]
    },
    {
      "cell_type": "code",
      "metadata": {
        "id": "AvdWMiRyLoRd",
        "outputId": "5733aa7e-1cc7-4484-a5aa-a900034d6520"
      },
      "source": [
        "%%time\n",
        "\n",
        "for i in range(train_df[\"title\"].shape[0]):\n",
        "    \n",
        "    a = []\n",
        "    b = ''\n",
        "    for j in train_df[\"title\"][i]:\n",
        "        a.append(j)\n",
        "    b = ' '.join(a)\n",
        "    train_df[\"title\"][i] = b\n",
        "    \n",
        "print(train_df[\"title\"])"
      ],
      "execution_count": null,
      "outputs": [
        {
          "output_type": "stream",
          "text": [
            "<timed exec>:8: SettingWithCopyWarning: \n",
            "A value is trying to be set on a copy of a slice from a DataFrame\n",
            "\n",
            "See the caveats in the documentation: https://pandas.pydata.org/pandas-docs/stable/user_guide/indexing.html#returning-a-view-versus-a-copy\n"
          ],
          "name": "stderr"
        },
        {
          "output_type": "stream",
          "text": [
            "0         эксминистр экономика молдова глава мидэи цель ...\n",
            "1         этот песня стать известный многий телезритель ...\n",
            "2           банши сезон серия бремя красота смотреть онлайн\n",
            "3                                           бесить картинка\n",
            "4         новомосковск сыграть следжхоккеисты алексински...\n",
            "                                ...                        \n",
            "135304    пора тюльпан турецкий сериал русский язык резу...\n",
            "135305        остросюжетный сериал шеф игра повышение серия\n",
            "135306    plymouth special deluxe hot rod automaticsmall...\n",
            "135307    купить skin сыворотка питательный power formul...\n",
            "135308      технический спирт канистра флакон купить москва\n",
            "Name: title, Length: 135309, dtype: object\n",
            "Wall time: 3min 38s\n"
          ],
          "name": "stdout"
        }
      ]
    },
    {
      "cell_type": "code",
      "metadata": {
        "id": "qDjoarl0LoRd",
        "outputId": "397a80b9-dfee-4168-8baa-d903fa26dc0b"
      },
      "source": [
        "%%time\n",
        "\n",
        "for i in range(test_df[\"title\"].shape[0]):\n",
        "    \n",
        "    a = []\n",
        "    b = ''\n",
        "    for j in test_df[\"title\"][i]:\n",
        "        a.append(j)\n",
        "    b = ' '.join(a)\n",
        "    test_df[\"title\"][i] = b\n",
        "    \n",
        "print(test_df[\"title\"])"
      ],
      "execution_count": null,
      "outputs": [
        {
          "output_type": "stream",
          "text": [
            "<timed exec>:8: SettingWithCopyWarning: \n",
            "A value is trying to be set on a copy of a slice from a DataFrame\n",
            "\n",
            "See the caveats in the documentation: https://pandas.pydata.org/pandas-docs/stable/user_guide/indexing.html#returning-a-view-versus-a-copy\n"
          ],
          "name": "stderr"
        },
        {
          "output_type": "stream",
          "text": [
            "0         шестой кассационный суд самара начать работа р...\n",
            "1         индексация алименты кто какой случай производи...\n",
            "2                                  женщина империя мех part\n",
            "3         небритый волосатый киска порно страна национал...\n",
            "4                                                          \n",
            "                                ...                        \n",
            "165373    armtek запчасть грузовой легковой автомобиль о...\n",
            "165374    лилия якупова караганда карагандинский область...\n",
            "165375    администрация лесной район тверской область го...\n",
            "165376    сонник изменение сознание что сниться изменени...\n",
            "165377    строительство база команда грандрапидс гриффин...\n",
            "Name: title, Length: 165378, dtype: object\n",
            "Wall time: 6min 33s\n"
          ],
          "name": "stdout"
        }
      ]
    },
    {
      "cell_type": "code",
      "metadata": {
        "id": "dg5Jks_ILoRe"
      },
      "source": [
        "class ColumnExtractor(TransformerMixin):\n",
        "    \n",
        "    def __init__(self, column_name):\n",
        "        self.column_name = column_name\n",
        "    \n",
        "    def fit(self, X, y = None):\n",
        "        return self\n",
        "    \n",
        "    def transform(self, X, y = None):\n",
        "        return X[self.column_name].values"
      ],
      "execution_count": null,
      "outputs": []
    },
    {
      "cell_type": "code",
      "metadata": {
        "id": "bTAFQCdGLoRe",
        "outputId": "81ec3bac-b7db-43ef-947c-1fd552af69bb"
      },
      "source": [
        "%%time\n",
        "\n",
        "cv = StratifiedKFold(shuffle = True, n_splits = 3, random_state = 123)\n",
        "\n",
        "pipline = Pipeline([\n",
        "        ('features', FeatureUnion([\n",
        "            ('url', Pipeline([\n",
        "                ('extractor', ColumnExtractor('url')),\n",
        "                ('vectorizer', TfidfVectorizer(analyzer = 'char'))])),\n",
        "            ('title', Pipeline([\n",
        "                ('extractor', ColumnExtractor('title')),\n",
        "                ('vectorizer', TfidfVectorizer(analyzer = 'char'))]))])),\n",
        "        ('clf', LogisticRegression(class_weight = 'balanced', max_iter = 300, random_state = 123))])\n",
        "\n",
        "params = {'features__url__vectorizer__max_df' : [0.8, 0.9],\n",
        "          'features__url__vectorizer__min_df' : [4, 5],\n",
        "          'features__url__vectorizer__ngram_range' : [(3, 4), (4, 4)],\n",
        "          'features__title__vectorizer__max_df' : [0.8, 0.9],\n",
        "          'features__title__vectorizer__min_df' : [4, 5],\n",
        "          'features__title__vectorizer__ngram_range' : [(3, 4), (4, 4)]}\n",
        "\n",
        "model = GridSearchCV(pipline, params, scoring = 'f1', cv = cv)\n",
        "model.fit(train_df, y_train)"
      ],
      "execution_count": null,
      "outputs": [
        {
          "output_type": "stream",
          "text": [
            "Wall time: 46min 48s\n"
          ],
          "name": "stdout"
        },
        {
          "output_type": "execute_result",
          "data": {
            "text/plain": [
              "GridSearchCV(cv=StratifiedKFold(n_splits=3, random_state=123, shuffle=True),\n",
              "             estimator=Pipeline(steps=[('features',\n",
              "                                        FeatureUnion(transformer_list=[('url',\n",
              "                                                                        Pipeline(steps=[('extractor',\n",
              "                                                                                         <__main__.ColumnExtractor object at 0x0000012A3B96A7C0>),\n",
              "                                                                                        ('vectorizer',\n",
              "                                                                                         TfidfVectorizer(analyzer='char'))])),\n",
              "                                                                       ('title',\n",
              "                                                                        Pipeline(steps=[('extractor',\n",
              "                                                                                         <__main__.ColumnExtractor obj...\n",
              "                                                           max_iter=300,\n",
              "                                                           random_state=123))]),\n",
              "             param_grid={'features__title__vectorizer__max_df': [0.8, 0.9],\n",
              "                         'features__title__vectorizer__min_df': [4, 5],\n",
              "                         'features__title__vectorizer__ngram_range': [(3, 4),\n",
              "                                                                      (4, 4)],\n",
              "                         'features__url__vectorizer__max_df': [0.8, 0.9],\n",
              "                         'features__url__vectorizer__min_df': [4, 5],\n",
              "                         'features__url__vectorizer__ngram_range': [(3, 4),\n",
              "                                                                    (4, 4)]},\n",
              "             scoring='f1')"
            ]
          },
          "metadata": {
            "tags": []
          },
          "execution_count": 39
        }
      ]
    },
    {
      "cell_type": "code",
      "metadata": {
        "id": "65CoEMFALoRf",
        "outputId": "c8125214-9a17-46c5-c34c-7074a9f168c1"
      },
      "source": [
        "print(model.best_estimator_)\n",
        "print(model.best_score_)"
      ],
      "execution_count": null,
      "outputs": [
        {
          "output_type": "stream",
          "text": [
            "Pipeline(steps=[('features',\n",
            "                 FeatureUnion(transformer_list=[('url',\n",
            "                                                 Pipeline(steps=[('extractor',\n",
            "                                                                  <__main__.ColumnExtractor object at 0x0000012A44BE56A0>),\n",
            "                                                                 ('vectorizer',\n",
            "                                                                  TfidfVectorizer(analyzer='char',\n",
            "                                                                                  max_df=0.8,\n",
            "                                                                                  min_df=4,\n",
            "                                                                                  ngram_range=(3,\n",
            "                                                                                               4)))])),\n",
            "                                                ('title',\n",
            "                                                 Pipeline(steps=[('extractor',\n",
            "                                                                  <__main__.ColumnExtractor object at 0x0000012A44BE5C10>),\n",
            "                                                                 ('vectorizer',\n",
            "                                                                  TfidfVectorizer(analyzer='char',\n",
            "                                                                                  max_df=0.8,\n",
            "                                                                                  min_df=5,\n",
            "                                                                                  ngram_range=(3,\n",
            "                                                                                               4)))]))])),\n",
            "                ('clf',\n",
            "                 LogisticRegression(class_weight='balanced', max_iter=300,\n",
            "                                    random_state=123))])\n",
            "0.9818459292532831\n"
          ],
          "name": "stdout"
        }
      ]
    },
    {
      "cell_type": "code",
      "metadata": {
        "id": "2Iw-sIi-LoRf",
        "outputId": "0fb012e6-aa71-4e7f-baa4-70a31429cb44"
      },
      "source": [
        "%%time\n",
        "\n",
        "LR_predict = model.best_estimator_.predict(train_df)\n",
        "LR_predict_proba_train = pd.DataFrame(model.best_estimator_.predict_proba(train_df))\n",
        "LR_predict_proba_test = pd.DataFrame(model.best_estimator_.predict_proba(test_df))"
      ],
      "execution_count": null,
      "outputs": [
        {
          "output_type": "stream",
          "text": [
            "Wall time: 39.5 s\n"
          ],
          "name": "stdout"
        }
      ]
    },
    {
      "cell_type": "code",
      "metadata": {
        "id": "mPXHvRvZLoRf",
        "outputId": "a0b78fe5-f683-4cea-b5e0-df1158a1933f"
      },
      "source": [
        "f1_score(y_train, LR_predict)"
      ],
      "execution_count": null,
      "outputs": [
        {
          "output_type": "execute_result",
          "data": {
            "text/plain": [
              "0.9935649168801763"
            ]
          },
          "metadata": {
            "tags": []
          },
          "execution_count": 42
        }
      ]
    },
    {
      "cell_type": "code",
      "metadata": {
        "id": "bPWr9g2ZLoRg",
        "outputId": "30d74ac8-cbfb-44e9-dcd3-85da1a98ae3a"
      },
      "source": [
        "%%time\n",
        "\n",
        "params = {'max_depth': [1, 5, 10, 15],\n",
        "          'n_estimators': [70, 100, 130],\n",
        "          'learning_rate': [0.01, 0.02, 0.05]}\n",
        "\n",
        "gbc_model = GridSearchCV(GradientBoostingClassifier(), params, scoring = 'f1', cv = cv)\n",
        "gbc_model.fit(LR_predict_proba_train, y_train)"
      ],
      "execution_count": null,
      "outputs": [
        {
          "output_type": "stream",
          "text": [
            "Wall time: 24min 37s\n"
          ],
          "name": "stdout"
        },
        {
          "output_type": "execute_result",
          "data": {
            "text/plain": [
              "GridSearchCV(cv=StratifiedKFold(n_splits=3, random_state=123, shuffle=True),\n",
              "             estimator=GradientBoostingClassifier(),\n",
              "             param_grid={'learning_rate': [0.01, 0.02, 0.05],\n",
              "                         'max_depth': [1, 5, 10, 15],\n",
              "                         'n_estimators': [70, 100, 130]},\n",
              "             scoring='f1')"
            ]
          },
          "metadata": {
            "tags": []
          },
          "execution_count": 43
        }
      ]
    },
    {
      "cell_type": "code",
      "metadata": {
        "id": "fZ4jreqzLoRg",
        "outputId": "45b698d6-1bad-4c47-ad24-d07c1cf2aa7c"
      },
      "source": [
        "print(gbc_model.best_estimator_)\n",
        "print(gbc_model.best_score_)"
      ],
      "execution_count": null,
      "outputs": [
        {
          "output_type": "stream",
          "text": [
            "GradientBoostingClassifier(learning_rate=0.02, max_depth=1)\n",
            "0.9946196165268892\n"
          ],
          "name": "stdout"
        }
      ]
    },
    {
      "cell_type": "code",
      "metadata": {
        "id": "CMzUDv5xLoRg",
        "outputId": "c739ea24-4fa1-48df-9442-736f4e288d0b"
      },
      "source": [
        "%time\n",
        "\n",
        "GBC_predict_model = gbc_model.best_estimator_.predict(LR_predict_proba_train)"
      ],
      "execution_count": null,
      "outputs": [
        {
          "output_type": "stream",
          "text": [
            "Wall time: 0 ns\n"
          ],
          "name": "stdout"
        }
      ]
    },
    {
      "cell_type": "code",
      "metadata": {
        "id": "ecgInsT-LoRh",
        "outputId": "97ccd9c9-6a3a-45fe-c971-71d7e6c07165"
      },
      "source": [
        "f1_score(y_train, GBC_predict_model)"
      ],
      "execution_count": null,
      "outputs": [
        {
          "output_type": "execute_result",
          "data": {
            "text/plain": [
              "0.9947681545038717"
            ]
          },
          "metadata": {
            "tags": []
          },
          "execution_count": 46
        }
      ]
    },
    {
      "cell_type": "code",
      "metadata": {
        "id": "qIJTS4aELoRh"
      },
      "source": [
        "GBC_predict_model_ = gbc_model.best_estimator_.predict(LR_predict_proba_test)"
      ],
      "execution_count": null,
      "outputs": []
    },
    {
      "cell_type": "code",
      "metadata": {
        "id": "uZsuo_LwLoRh",
        "outputId": "29fbf56e-dc8a-466c-ca18-edaed24d9383"
      },
      "source": [
        "test_df[\"target\"] = GBC_predict_model_.astype(bool)\n",
        "test_df[[\"id\", \"target\"]].to_csv(\"out.csv\", index = False)\n",
        "!cat out.csv | head"
      ],
      "execution_count": null,
      "outputs": [
        {
          "output_type": "stream",
          "text": [
            "\"cat\" ­Ґ пў«пҐвбп ў­гваҐ­­Ґ© Ё«Ё ў­Ґи­Ґ©\n",
            "Є®¬ ­¤®©, ЁбЇ®«­пҐ¬®© Їа®Ја ¬¬®© Ё«Ё Ї ЄҐв­л¬ д ©«®¬.\n"
          ],
          "name": "stderr"
        }
      ]
    },
    {
      "cell_type": "code",
      "metadata": {
        "id": "-GQ-IY_SLoRi"
      },
      "source": [
        ""
      ],
      "execution_count": null,
      "outputs": []
    },
    {
      "cell_type": "code",
      "metadata": {
        "id": "W3JQG3FXLoRi"
      },
      "source": [
        ""
      ],
      "execution_count": null,
      "outputs": []
    }
  ]
}