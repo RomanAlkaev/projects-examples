{
  "nbformat": 4,
  "nbformat_minor": 0,
  "metadata": {
    "kernelspec": {
      "display_name": "Python 3",
      "language": "python",
      "name": "python3"
    },
    "language_info": {
      "codemirror_mode": {
        "name": "ipython",
        "version": 3
      },
      "file_extension": ".py",
      "mimetype": "text/x-python",
      "name": "python",
      "nbconvert_exporter": "python",
      "pygments_lexer": "ipython3",
      "version": "3.8.3"
    },
    "colab": {
      "name": "HomeWork_3_.ipynb",
      "provenance": []
    }
  },
  "cells": [
    {
      "cell_type": "code",
      "metadata": {
        "id": "WKYxIwUlI-Yi",
        "outputId": "64906faf-cf29-4bb4-a6b4-c571db678e0e"
      },
      "source": [
        "import numpy as np\n",
        "import pandas as pd\n",
        "import seaborn as sns\n",
        "import matplotlib.pyplot as plt\n",
        "import seaborn as sns\n",
        "import pymorphy2\n",
        "import nltk\n",
        "import string\n",
        "import re\n",
        "nltk.download('punkt')\n",
        "nltk.download('stopwords')\n",
        "from sklearn.base import TransformerMixin\n",
        "from nltk.tokenize import word_tokenize\n",
        "from nltk.corpus import stopwords\n",
        "from sklearn.model_selection import cross_val_score\n",
        "from sklearn.linear_model import LogisticRegression, SGDClassifier\n",
        "from sklearn.svm import LinearSVC\n",
        "from sklearn.pipeline import Pipeline, FeatureUnion\n",
        "from sklearn.metrics import f1_score\n",
        "from sklearn.feature_extraction.text import TfidfVectorizer\n",
        "from sklearn.ensemble import RandomForestClassifier, GradientBoostingClassifier\n",
        "from sklearn.model_selection import StratifiedKFold, GridSearchCV\n",
        "from tqdm import tqdm_notebook"
      ],
      "execution_count": null,
      "outputs": [
        {
          "output_type": "stream",
          "text": [
            "[nltk_data] Error loading punkt: <urlopen error [Errno 11001]\n",
            "[nltk_data]     getaddrinfo failed>\n",
            "[nltk_data] Error loading stopwords: <urlopen error [Errno 11001]\n",
            "[nltk_data]     getaddrinfo failed>\n"
          ],
          "name": "stderr"
        }
      ]
    },
    {
      "cell_type": "code",
      "metadata": {
        "id": "OmbGgX-AI-Yo",
        "outputId": "f19480b9-8aff-4825-bd9d-171f4228335d"
      },
      "source": [
        "train_df = pd.read_csv(\"train.csv\")\n",
        "train_df.head(5)"
      ],
      "execution_count": null,
      "outputs": [
        {
          "output_type": "execute_result",
          "data": {
            "text/html": [
              "<div>\n",
              "<style scoped>\n",
              "    .dataframe tbody tr th:only-of-type {\n",
              "        vertical-align: middle;\n",
              "    }\n",
              "\n",
              "    .dataframe tbody tr th {\n",
              "        vertical-align: top;\n",
              "    }\n",
              "\n",
              "    .dataframe thead th {\n",
              "        text-align: right;\n",
              "    }\n",
              "</style>\n",
              "<table border=\"1\" class=\"dataframe\">\n",
              "  <thead>\n",
              "    <tr style=\"text-align: right;\">\n",
              "      <th></th>\n",
              "      <th>id</th>\n",
              "      <th>url</th>\n",
              "      <th>title</th>\n",
              "      <th>target</th>\n",
              "    </tr>\n",
              "  </thead>\n",
              "  <tbody>\n",
              "    <tr>\n",
              "      <th>0</th>\n",
              "      <td>0</td>\n",
              "      <td>m.kp.md</td>\n",
              "      <td>Экс-министр экономики Молдовы - главе МИДЭИ, ц...</td>\n",
              "      <td>False</td>\n",
              "    </tr>\n",
              "    <tr>\n",
              "      <th>1</th>\n",
              "      <td>1</td>\n",
              "      <td>www.kp.by</td>\n",
              "      <td>Эта песня стала известна многим телезрителям б...</td>\n",
              "      <td>False</td>\n",
              "    </tr>\n",
              "    <tr>\n",
              "      <th>2</th>\n",
              "      <td>2</td>\n",
              "      <td>fanserials.tv</td>\n",
              "      <td>Банши 4 сезон 2 серия Бремя красоты смотреть о...</td>\n",
              "      <td>False</td>\n",
              "    </tr>\n",
              "    <tr>\n",
              "      <th>3</th>\n",
              "      <td>3</td>\n",
              "      <td>colorbox.spb.ru</td>\n",
              "      <td>Не Беси Меня Картинки</td>\n",
              "      <td>False</td>\n",
              "    </tr>\n",
              "    <tr>\n",
              "      <th>4</th>\n",
              "      <td>4</td>\n",
              "      <td>tula-sport.ru</td>\n",
              "      <td>В Новомосковске сыграют следж-хоккеисты алекси...</td>\n",
              "      <td>False</td>\n",
              "    </tr>\n",
              "  </tbody>\n",
              "</table>\n",
              "</div>"
            ],
            "text/plain": [
              "   id              url                                              title  \\\n",
              "0   0          m.kp.md  Экс-министр экономики Молдовы - главе МИДЭИ, ц...   \n",
              "1   1        www.kp.by  Эта песня стала известна многим телезрителям б...   \n",
              "2   2    fanserials.tv  Банши 4 сезон 2 серия Бремя красоты смотреть о...   \n",
              "3   3  colorbox.spb.ru                              Не Беси Меня Картинки   \n",
              "4   4    tula-sport.ru  В Новомосковске сыграют следж-хоккеисты алекси...   \n",
              "\n",
              "   target  \n",
              "0   False  \n",
              "1   False  \n",
              "2   False  \n",
              "3   False  \n",
              "4   False  "
            ]
          },
          "metadata": {
            "tags": []
          },
          "execution_count": 3
        }
      ]
    },
    {
      "cell_type": "code",
      "metadata": {
        "id": "7EBUw4KGI-Yp",
        "outputId": "fc66f13e-e1bc-4d22-c51f-51b0ec1384d3"
      },
      "source": [
        "test_df = pd.read_csv(\"test.csv\")\n",
        "test_df.head(5)"
      ],
      "execution_count": null,
      "outputs": [
        {
          "output_type": "execute_result",
          "data": {
            "text/html": [
              "<div>\n",
              "<style scoped>\n",
              "    .dataframe tbody tr th:only-of-type {\n",
              "        vertical-align: middle;\n",
              "    }\n",
              "\n",
              "    .dataframe tbody tr th {\n",
              "        vertical-align: top;\n",
              "    }\n",
              "\n",
              "    .dataframe thead th {\n",
              "        text-align: right;\n",
              "    }\n",
              "</style>\n",
              "<table border=\"1\" class=\"dataframe\">\n",
              "  <thead>\n",
              "    <tr style=\"text-align: right;\">\n",
              "      <th></th>\n",
              "      <th>id</th>\n",
              "      <th>url</th>\n",
              "      <th>title</th>\n",
              "    </tr>\n",
              "  </thead>\n",
              "  <tbody>\n",
              "    <tr>\n",
              "      <th>0</th>\n",
              "      <td>135309</td>\n",
              "      <td>www.kommersant.ru</td>\n",
              "      <td>Шестой кассационный суд в Самаре начнет работу...</td>\n",
              "    </tr>\n",
              "    <tr>\n",
              "      <th>1</th>\n",
              "      <td>135310</td>\n",
              "      <td>urexpert.online</td>\n",
              "      <td>Что такое индексация алиментов, кем и в каких ...</td>\n",
              "    </tr>\n",
              "    <tr>\n",
              "      <th>2</th>\n",
              "      <td>135311</td>\n",
              "      <td>imperimeha.ru</td>\n",
              "      <td>Женщинам | Империя Меха - Part 12</td>\n",
              "    </tr>\n",
              "    <tr>\n",
              "      <th>3</th>\n",
              "      <td>135312</td>\n",
              "      <td>national-porn.com</td>\n",
              "      <td>Небритые, волосатые киски: Порно всех стран и ...</td>\n",
              "    </tr>\n",
              "    <tr>\n",
              "      <th>4</th>\n",
              "      <td>135313</td>\n",
              "      <td>2gis.ru</td>\n",
              "      <td>67</td>\n",
              "    </tr>\n",
              "  </tbody>\n",
              "</table>\n",
              "</div>"
            ],
            "text/plain": [
              "       id                url  \\\n",
              "0  135309  www.kommersant.ru   \n",
              "1  135310    urexpert.online   \n",
              "2  135311      imperimeha.ru   \n",
              "3  135312  national-porn.com   \n",
              "4  135313            2gis.ru   \n",
              "\n",
              "                                               title  \n",
              "0  Шестой кассационный суд в Самаре начнет работу...  \n",
              "1  Что такое индексация алиментов, кем и в каких ...  \n",
              "2                  Женщинам | Империя Меха - Part 12  \n",
              "3  Небритые, волосатые киски: Порно всех стран и ...  \n",
              "4                                                 67  "
            ]
          },
          "metadata": {
            "tags": []
          },
          "execution_count": 4
        }
      ]
    },
    {
      "cell_type": "code",
      "metadata": {
        "id": "Gkp_8K_WI-Yq"
      },
      "source": [
        "y_train = train_df[\"target\"].astype(int)"
      ],
      "execution_count": null,
      "outputs": []
    },
    {
      "cell_type": "code",
      "metadata": {
        "id": "Kf-3Lg3_I-Yq"
      },
      "source": [
        "train_df.url = train_df.url.str.lower()\n",
        "test_df.url = test_df.url.str.lower()"
      ],
      "execution_count": null,
      "outputs": []
    },
    {
      "cell_type": "code",
      "metadata": {
        "id": "IRy3LkMkI-Yq",
        "outputId": "da7bce02-3044-41c3-9d95-61dd0149a367"
      },
      "source": [
        "test_df['url'] = test_df['url'].apply(lambda url: \"\".join(re.sub(r'[^\\w\\s]+|[\\d]+', r'', url).strip()))\n",
        "train_df['url'] = train_df['url'].apply(lambda url: \"\".join(re.sub(r'[^\\w\\s]+|[\\d]+', r'', url).strip()))\n",
        "train_df['url'].head(10)"
      ],
      "execution_count": null,
      "outputs": [
        {
          "output_type": "execute_result",
          "data": {
            "text/plain": [
              "0                  mkpmd\n",
              "1                wwwkpby\n",
              "2           fanserialstv\n",
              "3          colorboxspbru\n",
              "4            tulasportru\n",
              "5         beregifigururu\n",
              "6    ekbvseinstrumentiru\n",
              "7           mirtabakaorg\n",
              "8               xlecxcom\n",
              "9        busbiletyplusua\n",
              "Name: url, dtype: object"
            ]
          },
          "metadata": {
            "tags": []
          },
          "execution_count": 7
        }
      ]
    },
    {
      "cell_type": "code",
      "metadata": {
        "id": "1Bk2Hi_1I-Yr"
      },
      "source": [
        "train_df.title = train_df.title.str.lower()\n",
        "test_df.title = test_df.title.str.lower()"
      ],
      "execution_count": null,
      "outputs": []
    },
    {
      "cell_type": "code",
      "metadata": {
        "id": "84hWSoepI-Yr",
        "outputId": "425054af-4996-4db3-e264-ec11f3339ff2"
      },
      "source": [
        "test_df['title'] = test_df['title'].apply(lambda title: \"\".join(re.sub(r'[^\\w\\s]+|[\\d]+', r'', title).strip()))\n",
        "train_df['title'] = train_df['title'].apply(lambda title: \"\".join(re.sub(r'[^\\w\\s]+|[\\d]+', r'', title).strip()))\n",
        "train_df['title'].head(10)"
      ],
      "execution_count": null,
      "outputs": [
        {
          "output_type": "execute_result",
          "data": {
            "text/plain": [
              "0    эксминистр экономики молдовы  главе мидэи цель...\n",
              "1    эта песня стала известна многим телезрителям б...\n",
              "2    банши  сезон  серия бремя красоты смотреть онлайн\n",
              "3                                не беси меня картинки\n",
              "4    в новомосковске сыграют следжхоккеисты алексин...\n",
              "5    салат корейская морковь  копченая курица  куку...\n",
              "6    угловой пневмогайковерт fubag rwc    в екатери...\n",
              "7    табачный магазин мир табака  курительные трубк...\n",
              "8    league of legends  page   porn comics free online\n",
              "9         р одесса  ростовнадону  сентября  фаворит чп\n",
              "Name: title, dtype: object"
            ]
          },
          "metadata": {
            "tags": []
          },
          "execution_count": 9
        }
      ]
    },
    {
      "cell_type": "code",
      "metadata": {
        "id": "3_Vxp5-oI-Yr",
        "outputId": "18917946-2987-45ab-87f5-d023688e30ef"
      },
      "source": [
        "train_df['title'] = train_df['title'].apply(word_tokenize)\n",
        "train_df['title'].head(3)"
      ],
      "execution_count": null,
      "outputs": [
        {
          "output_type": "execute_result",
          "data": {
            "text/plain": [
              "0    [эксминистр, экономики, молдовы, главе, мидэи,...\n",
              "1    [эта, песня, стала, известна, многим, телезрит...\n",
              "2    [банши, сезон, серия, бремя, красоты, смотреть...\n",
              "Name: title, dtype: object"
            ]
          },
          "metadata": {
            "tags": []
          },
          "execution_count": 10
        }
      ]
    },
    {
      "cell_type": "code",
      "metadata": {
        "id": "kZ24Xe-QI-Yr",
        "outputId": "76fe4147-4bcd-4842-f3ec-f77866051419"
      },
      "source": [
        "test_df[\"title\"] = test_df[\"title\"].apply(word_tokenize)\n",
        "test_df['title'].head(3)"
      ],
      "execution_count": null,
      "outputs": [
        {
          "output_type": "execute_result",
          "data": {
            "text/plain": [
              "0    [шестой, кассационный, суд, в, самаре, начнет,...\n",
              "1    [что, такое, индексация, алиментов, кем, и, в,...\n",
              "2                      [женщинам, империя, меха, part]\n",
              "Name: title, dtype: object"
            ]
          },
          "metadata": {
            "tags": []
          },
          "execution_count": 11
        }
      ]
    },
    {
      "cell_type": "code",
      "metadata": {
        "id": "bY0xxFRHI-Ys",
        "outputId": "81cf5a5f-d3b3-4501-a3f4-e21ed967d471"
      },
      "source": [
        "%%time\n",
        "\n",
        "mystopwords = stopwords.words() + ['это', 'наш' , 'тыс', 'млн', 'млрд', 'также', 'т', 'д', 'это', 'который', 'весь', 'свой', 'ещё', 'её', 'ваш', 'такое', 'итак', 'что', 'этот']\n",
        "\n",
        "train_df['title'] = train_df['title'].apply(lambda title: [word for word in title if word not in mystopwords])\n",
        "test_df['title'] = test_df['title'].apply(lambda title: [word for word in title if word not in mystopwords])"
      ],
      "execution_count": null,
      "outputs": [
        {
          "output_type": "stream",
          "text": [
            "Wall time: 3min 20s\n"
          ],
          "name": "stdout"
        }
      ]
    },
    {
      "cell_type": "code",
      "metadata": {
        "id": "mi6MRh_OI-Ys",
        "outputId": "9914351e-6b5c-4561-ec5a-ff788e4f24cb"
      },
      "source": [
        "%%time\n",
        "\n",
        "lemmatizer = pymorphy2.MorphAnalyzer()\n",
        "\n",
        "lemmatizer_cache = {}\n",
        "\n",
        "def lemmatize(token):\n",
        "    if lemmatizer.word_is_known(token):\n",
        "        if token not in lemmatizer_cache:\n",
        "            lemmatizer_cache[token] = lemmatizer.parse(token)[0].normal_form\n",
        "        return lemmatizer_cache[token]\n",
        "    return token\n",
        "\n",
        "for i in range(train_df[\"title\"].shape[0]):\n",
        "    train_df[\"title\"][i] = [lemmatize(word) for word in train_df[\"title\"][i]]\n",
        "        \n",
        "for i in range(test_df[\"title\"].shape[0]):\n",
        "    test_df[\"title\"][i] = [lemmatize(word) for word in test_df[\"title\"][i]]"
      ],
      "execution_count": null,
      "outputs": [
        {
          "output_type": "stream",
          "text": [
            "<timed exec>:13: SettingWithCopyWarning: \n",
            "A value is trying to be set on a copy of a slice from a DataFrame\n",
            "\n",
            "See the caveats in the documentation: https://pandas.pydata.org/pandas-docs/stable/user_guide/indexing.html#returning-a-view-versus-a-copy\n",
            "<timed exec>:16: SettingWithCopyWarning: \n",
            "A value is trying to be set on a copy of a slice from a DataFrame\n",
            "\n",
            "See the caveats in the documentation: https://pandas.pydata.org/pandas-docs/stable/user_guide/indexing.html#returning-a-view-versus-a-copy\n"
          ],
          "name": "stderr"
        },
        {
          "output_type": "stream",
          "text": [
            "Wall time: 9min 2s\n"
          ],
          "name": "stdout"
        }
      ]
    },
    {
      "cell_type": "code",
      "metadata": {
        "id": "hPj9aVn0I-Yt",
        "outputId": "f9c52fdd-234f-4b16-fdac-4581907a966d"
      },
      "source": [
        "train_df['title'].head(5)"
      ],
      "execution_count": null,
      "outputs": [
        {
          "output_type": "execute_result",
          "data": {
            "text/plain": [
              "0    [эксминистр, экономика, молдова, глава, мидэи,...\n",
              "1    [этот, песня, стать, известный, многий, телезр...\n",
              "2    [банши, сезон, серия, бремя, красота, смотреть...\n",
              "3                                   [бесить, картинка]\n",
              "4    [новомосковск, сыграть, следжхоккеисты, алекси...\n",
              "Name: title, dtype: object"
            ]
          },
          "metadata": {
            "tags": []
          },
          "execution_count": 14
        }
      ]
    },
    {
      "cell_type": "code",
      "metadata": {
        "id": "dVDBAPWUI-Yt",
        "outputId": "c693239c-dd8b-4683-a17f-d733aebb4fc3"
      },
      "source": [
        "test_df['title'].head(5)"
      ],
      "execution_count": null,
      "outputs": [
        {
          "output_type": "execute_result",
          "data": {
            "text/plain": [
              "0    [шестой, кассационный, суд, самара, начать, ра...\n",
              "1    [индексация, алименты, кто, какой, случай, про...\n",
              "2                        [женщина, империя, мех, part]\n",
              "3    [небритый, волосатый, киска, порно, страна, на...\n",
              "4                                                   []\n",
              "Name: title, dtype: object"
            ]
          },
          "metadata": {
            "tags": []
          },
          "execution_count": 15
        }
      ]
    },
    {
      "cell_type": "code",
      "metadata": {
        "id": "57Rl9xsiI-Yt",
        "outputId": "7552105d-53ea-4af3-9aca-ba706c1c6438"
      },
      "source": [
        "%%time\n",
        "\n",
        "for i in range(train_df[\"title\"].shape[0]):\n",
        "    \n",
        "    a = []\n",
        "    b = ''\n",
        "    for j in train_df[\"title\"][i]:\n",
        "        a.append(j)\n",
        "    b = ' '.join(a)\n",
        "    train_df[\"title\"][i] = b\n",
        "    \n",
        "print(train_df[\"title\"])"
      ],
      "execution_count": null,
      "outputs": [
        {
          "output_type": "stream",
          "text": [
            "<timed exec>:8: SettingWithCopyWarning: \n",
            "A value is trying to be set on a copy of a slice from a DataFrame\n",
            "\n",
            "See the caveats in the documentation: https://pandas.pydata.org/pandas-docs/stable/user_guide/indexing.html#returning-a-view-versus-a-copy\n"
          ],
          "name": "stderr"
        },
        {
          "output_type": "stream",
          "text": [
            "0         эксминистр экономика молдова глава мидэи цель ...\n",
            "1         этот песня стать известный многий телезритель ...\n",
            "2           банши сезон серия бремя красота смотреть онлайн\n",
            "3                                           бесить картинка\n",
            "4         новомосковск сыграть следжхоккеисты алексински...\n",
            "                                ...                        \n",
            "135304    пора тюльпан турецкий сериал русский язык резу...\n",
            "135305        остросюжетный сериал шеф игра повышение серия\n",
            "135306    plymouth special deluxe hot rod automaticsmall...\n",
            "135307    купить skin сыворотка питательный power formul...\n",
            "135308      технический спирт канистра флакон купить москва\n",
            "Name: title, Length: 135309, dtype: object\n",
            "Wall time: 3min 38s\n"
          ],
          "name": "stdout"
        }
      ]
    },
    {
      "cell_type": "code",
      "metadata": {
        "id": "M72ARURDI-Yu",
        "outputId": "29a5c0ac-2fcc-413e-c6e5-19305a42c7e1"
      },
      "source": [
        "%%time\n",
        "\n",
        "for i in range(test_df[\"title\"].shape[0]):\n",
        "    \n",
        "    a = []\n",
        "    b = ''\n",
        "    for j in test_df[\"title\"][i]:\n",
        "        a.append(j)\n",
        "    b = ' '.join(a)\n",
        "    test_df[\"title\"][i] = b\n",
        "    \n",
        "print(test_df[\"title\"])"
      ],
      "execution_count": null,
      "outputs": [
        {
          "output_type": "stream",
          "text": [
            "<timed exec>:8: SettingWithCopyWarning: \n",
            "A value is trying to be set on a copy of a slice from a DataFrame\n",
            "\n",
            "See the caveats in the documentation: https://pandas.pydata.org/pandas-docs/stable/user_guide/indexing.html#returning-a-view-versus-a-copy\n"
          ],
          "name": "stderr"
        },
        {
          "output_type": "stream",
          "text": [
            "0         шестой кассационный суд самара начать работа р...\n",
            "1         индексация алименты кто какой случай производи...\n",
            "2                                  женщина империя мех part\n",
            "3         небритый волосатый киска порно страна национал...\n",
            "4                                                          \n",
            "                                ...                        \n",
            "165373    armtek запчасть грузовой легковой автомобиль о...\n",
            "165374    лилия якупова караганда карагандинский область...\n",
            "165375    администрация лесной район тверской область го...\n",
            "165376    сонник изменение сознание что сниться изменени...\n",
            "165377    строительство база команда грандрапидс гриффин...\n",
            "Name: title, Length: 165378, dtype: object\n",
            "Wall time: 6min 33s\n"
          ],
          "name": "stdout"
        }
      ]
    },
    {
      "cell_type": "code",
      "metadata": {
        "id": "T1_mY5sjI-Yu"
      },
      "source": [
        "class ColumnExtractor(TransformerMixin):\n",
        "    \n",
        "    def __init__(self, column_name):\n",
        "        self.column_name = column_name\n",
        "    \n",
        "    def fit(self, X, y = None):\n",
        "        return self\n",
        "    \n",
        "    def transform(self, X, y = None):\n",
        "        return X[self.column_name].values"
      ],
      "execution_count": null,
      "outputs": []
    },
    {
      "cell_type": "code",
      "metadata": {
        "id": "vM0vA51tI-Yu",
        "outputId": "198c5134-5fc9-4cbf-e81d-01d8baada649"
      },
      "source": [
        "%%time\n",
        "\n",
        "cv = StratifiedKFold(shuffle = True, n_splits = 3, random_state = 123)\n",
        "\n",
        "pipline = Pipeline([\n",
        "        ('features', FeatureUnion([\n",
        "            ('url', Pipeline([\n",
        "                ('extractor', ColumnExtractor('url')),\n",
        "                ('vectorizer', TfidfVectorizer(analyzer = 'char'))])),\n",
        "            ('title', Pipeline([\n",
        "                ('extractor', ColumnExtractor('title')),\n",
        "                ('vectorizer', TfidfVectorizer(analyzer = 'char'))]))])),\n",
        "        ('clf', LogisticRegression(class_weight = 'balanced', max_iter = 300, random_state = 123))])\n",
        "\n",
        "params = {'features__url__vectorizer__max_df' : [0.8, 0.9],\n",
        "          'features__url__vectorizer__min_df' : [4, 5],\n",
        "          'features__url__vectorizer__ngram_range' : [(3, 4), (4, 4)],\n",
        "          'features__title__vectorizer__max_df' : [0.8, 0.9],\n",
        "          'features__title__vectorizer__min_df' : [4, 5],\n",
        "          'features__title__vectorizer__ngram_range' : [(3, 4), (4, 4)]}\n",
        "\n",
        "model = GridSearchCV(pipline, params, scoring = 'f1', cv = cv)\n",
        "model.fit(train_df, y_train)"
      ],
      "execution_count": null,
      "outputs": [
        {
          "output_type": "stream",
          "text": [
            "Wall time: 46min 48s\n"
          ],
          "name": "stdout"
        },
        {
          "output_type": "execute_result",
          "data": {
            "text/plain": [
              "GridSearchCV(cv=StratifiedKFold(n_splits=3, random_state=123, shuffle=True),\n",
              "             estimator=Pipeline(steps=[('features',\n",
              "                                        FeatureUnion(transformer_list=[('url',\n",
              "                                                                        Pipeline(steps=[('extractor',\n",
              "                                                                                         <__main__.ColumnExtractor object at 0x0000012A3B96A7C0>),\n",
              "                                                                                        ('vectorizer',\n",
              "                                                                                         TfidfVectorizer(analyzer='char'))])),\n",
              "                                                                       ('title',\n",
              "                                                                        Pipeline(steps=[('extractor',\n",
              "                                                                                         <__main__.ColumnExtractor obj...\n",
              "                                                           max_iter=300,\n",
              "                                                           random_state=123))]),\n",
              "             param_grid={'features__title__vectorizer__max_df': [0.8, 0.9],\n",
              "                         'features__title__vectorizer__min_df': [4, 5],\n",
              "                         'features__title__vectorizer__ngram_range': [(3, 4),\n",
              "                                                                      (4, 4)],\n",
              "                         'features__url__vectorizer__max_df': [0.8, 0.9],\n",
              "                         'features__url__vectorizer__min_df': [4, 5],\n",
              "                         'features__url__vectorizer__ngram_range': [(3, 4),\n",
              "                                                                    (4, 4)]},\n",
              "             scoring='f1')"
            ]
          },
          "metadata": {
            "tags": []
          },
          "execution_count": 39
        }
      ]
    },
    {
      "cell_type": "code",
      "metadata": {
        "id": "0xTvxN8ZI-Yu",
        "outputId": "da8e4b81-7d42-4091-92d6-f49bc3e50619"
      },
      "source": [
        "print(model.best_estimator_)\n",
        "print(model.best_score_)"
      ],
      "execution_count": null,
      "outputs": [
        {
          "output_type": "stream",
          "text": [
            "Pipeline(steps=[('features',\n",
            "                 FeatureUnion(transformer_list=[('url',\n",
            "                                                 Pipeline(steps=[('extractor',\n",
            "                                                                  <__main__.ColumnExtractor object at 0x0000012A44BE56A0>),\n",
            "                                                                 ('vectorizer',\n",
            "                                                                  TfidfVectorizer(analyzer='char',\n",
            "                                                                                  max_df=0.8,\n",
            "                                                                                  min_df=4,\n",
            "                                                                                  ngram_range=(3,\n",
            "                                                                                               4)))])),\n",
            "                                                ('title',\n",
            "                                                 Pipeline(steps=[('extractor',\n",
            "                                                                  <__main__.ColumnExtractor object at 0x0000012A44BE5C10>),\n",
            "                                                                 ('vectorizer',\n",
            "                                                                  TfidfVectorizer(analyzer='char',\n",
            "                                                                                  max_df=0.8,\n",
            "                                                                                  min_df=5,\n",
            "                                                                                  ngram_range=(3,\n",
            "                                                                                               4)))]))])),\n",
            "                ('clf',\n",
            "                 LogisticRegression(class_weight='balanced', max_iter=300,\n",
            "                                    random_state=123))])\n",
            "0.9818459292532831\n"
          ],
          "name": "stdout"
        }
      ]
    },
    {
      "cell_type": "code",
      "metadata": {
        "id": "eBufpkaXI-Yv",
        "outputId": "6d5b9732-73e3-4f9c-9edc-1317980559a3"
      },
      "source": [
        "%%time\n",
        "\n",
        "LR_predict = model.best_estimator_.predict(train_df)\n",
        "LR_predict_proba_train = pd.DataFrame(model.best_estimator_.predict_proba(train_df))\n",
        "LR_predict_proba_test = pd.DataFrame(model.best_estimator_.predict_proba(test_df))"
      ],
      "execution_count": null,
      "outputs": [
        {
          "output_type": "stream",
          "text": [
            "Wall time: 39.5 s\n"
          ],
          "name": "stdout"
        }
      ]
    },
    {
      "cell_type": "code",
      "metadata": {
        "id": "EwKrtu5NI-Yv",
        "outputId": "cdae8c14-90ee-4dc2-ec37-453e8259a389"
      },
      "source": [
        "f1_score(y_train, LR_predict)"
      ],
      "execution_count": null,
      "outputs": [
        {
          "output_type": "execute_result",
          "data": {
            "text/plain": [
              "0.9935649168801763"
            ]
          },
          "metadata": {
            "tags": []
          },
          "execution_count": 42
        }
      ]
    },
    {
      "cell_type": "code",
      "metadata": {
        "id": "iR4_xVT2I-Yv",
        "outputId": "fdc6eaac-c317-4f29-e79b-5b8493aa4e3d"
      },
      "source": [
        "%%time\n",
        "\n",
        "params = {'max_depth': [1, 5, 10, 15],\n",
        "          'n_estimators': [70, 100, 130],\n",
        "          'learning_rate': [0.01, 0.02, 0.05]}\n",
        "\n",
        "gbc_model = GridSearchCV(GradientBoostingClassifier(), params, scoring = 'f1', cv = cv)\n",
        "gbc_model.fit(LR_predict_proba_train, y_train)"
      ],
      "execution_count": null,
      "outputs": [
        {
          "output_type": "stream",
          "text": [
            "Wall time: 24min 37s\n"
          ],
          "name": "stdout"
        },
        {
          "output_type": "execute_result",
          "data": {
            "text/plain": [
              "GridSearchCV(cv=StratifiedKFold(n_splits=3, random_state=123, shuffle=True),\n",
              "             estimator=GradientBoostingClassifier(),\n",
              "             param_grid={'learning_rate': [0.01, 0.02, 0.05],\n",
              "                         'max_depth': [1, 5, 10, 15],\n",
              "                         'n_estimators': [70, 100, 130]},\n",
              "             scoring='f1')"
            ]
          },
          "metadata": {
            "tags": []
          },
          "execution_count": 43
        }
      ]
    },
    {
      "cell_type": "code",
      "metadata": {
        "id": "9HLnfRR8I-Yv",
        "outputId": "3ada399c-17a8-4168-bc7f-c15d503b414a"
      },
      "source": [
        "print(gbc_model.best_estimator_)\n",
        "print(gbc_model.best_score_)"
      ],
      "execution_count": null,
      "outputs": [
        {
          "output_type": "stream",
          "text": [
            "GradientBoostingClassifier(learning_rate=0.02, max_depth=1)\n",
            "0.9946196165268892\n"
          ],
          "name": "stdout"
        }
      ]
    },
    {
      "cell_type": "code",
      "metadata": {
        "id": "WU_KCVdnI-Yw",
        "outputId": "b6e828d4-325e-4a5b-b7bd-c8dfa4bd0a0a"
      },
      "source": [
        "%time\n",
        "\n",
        "GBC_predict_model = gbc_model.best_estimator_.predict(LR_predict_proba_train)"
      ],
      "execution_count": null,
      "outputs": [
        {
          "output_type": "stream",
          "text": [
            "Wall time: 0 ns\n"
          ],
          "name": "stdout"
        }
      ]
    },
    {
      "cell_type": "code",
      "metadata": {
        "id": "_9B34O6vI-Yw",
        "outputId": "e055b3e1-70fd-4865-cd0a-b29364acbbc2"
      },
      "source": [
        "f1_score(y_train, GBC_predict_model)"
      ],
      "execution_count": null,
      "outputs": [
        {
          "output_type": "execute_result",
          "data": {
            "text/plain": [
              "0.9947681545038717"
            ]
          },
          "metadata": {
            "tags": []
          },
          "execution_count": 46
        }
      ]
    },
    {
      "cell_type": "code",
      "metadata": {
        "id": "MGLGt0vZI-Yw"
      },
      "source": [
        "GBC_predict_model_ = gbc_model.best_estimator_.predict(LR_predict_proba_test)"
      ],
      "execution_count": null,
      "outputs": []
    },
    {
      "cell_type": "code",
      "metadata": {
        "id": "MT06uPZcI-Yw",
        "outputId": "304b98a5-2cca-4675-9dbe-db5550111fd8"
      },
      "source": [
        "test_df[\"target\"] = GBC_predict_model_.astype(bool)\n",
        "test_df[[\"id\", \"target\"]].to_csv(\"out.csv\", index = False)\n",
        "!cat out.csv | head"
      ],
      "execution_count": null,
      "outputs": [
        {
          "output_type": "stream",
          "text": [
            "\"cat\" ­Ґ пў«пҐвбп ў­гваҐ­­Ґ© Ё«Ё ў­Ґи­Ґ©\n",
            "Є®¬ ­¤®©, ЁбЇ®«­пҐ¬®© Їа®Ја ¬¬®© Ё«Ё Ї ЄҐв­л¬ д ©«®¬.\n"
          ],
          "name": "stderr"
        }
      ]
    },
    {
      "cell_type": "code",
      "metadata": {
        "id": "x-zBspakI-Yx"
      },
      "source": [
        ""
      ],
      "execution_count": null,
      "outputs": []
    },
    {
      "cell_type": "code",
      "metadata": {
        "id": "YLLParCVI-Yx"
      },
      "source": [
        ""
      ],
      "execution_count": null,
      "outputs": []
    }
  ]
}